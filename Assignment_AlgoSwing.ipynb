{
 "cells": [
  {
   "cell_type": "code",
   "execution_count": null,
   "id": "1c83140c",
   "metadata": {},
   "outputs": [],
   "source": [
    "from pandas_datareader import data as pdr\n",
    "import yfinance as yfin\n",
    "import pandas as pd\n",
    "import datetime as dt\n",
    "from datetime import date\n",
    "yfin.pdr_override()\n",
    "# import matplotlib.dates as mdates\n",
    "# my_year_month_fmt = mdates.DateFormatter('%m/%y')\n",
    "data = pd.read_csv(\"Stocks.csv\",parse_dates=[0], infer_datetime_format=True)\n",
    "data = data.drop(24)\n",
    "data['Start Date'] = pd.to_datetime(data['Buy date']).dt.date\n",
    "data['End Date'] = data['Start Date'] - pd.Timedelta(days=10)\n",
    "print(data)\n",
    "for x in range(24):   \n",
    "  for ticker in data['stock']:\n",
    "    data1 =  pdr.get_data_yahoo(ticker, (data['End Date'][x]), (data['Start Date'][x]))\n",
    "    data1['EMA10'] = data1['Close'].ewm(span=10, adjust=False).mean()\n",
    "    print(data1)"
   ]
  },
  {
   "cell_type": "code",
   "execution_count": null,
   "id": "b3c5970d",
   "metadata": {},
   "outputs": [],
   "source": []
  }
 ],
 "metadata": {
  "kernelspec": {
   "display_name": "Python 3 (ipykernel)",
   "language": "python",
   "name": "python3"
  },
  "language_info": {
   "codemirror_mode": {
    "name": "ipython",
    "version": 3
   },
   "file_extension": ".py",
   "mimetype": "text/x-python",
   "name": "python",
   "nbconvert_exporter": "python",
   "pygments_lexer": "ipython3",
   "version": "3.9.12"
  }
 },
 "nbformat": 4,
 "nbformat_minor": 5
}
