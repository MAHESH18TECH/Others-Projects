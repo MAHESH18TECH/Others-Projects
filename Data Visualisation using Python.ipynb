{
 "cells": [
  {
   "cell_type": "code",
   "execution_count": 2,
   "id": "28d33965",
   "metadata": {},
   "outputs": [],
   "source": [
    "import pandas as pd\n",
    "import numpy as np\n",
    "import matplotlib.pyplot as plt"
   ]
  },
  {
   "cell_type": "code",
   "execution_count": 7,
   "id": "f4dcb86e",
   "metadata": {},
   "outputs": [
    {
     "name": "stdout",
     "output_type": "stream",
     "text": [
      "      Price   Age       KM FuelType     HP  MetColor  Automatic    CC  Doors  \\\n",
      "0     13500  23.0  46986.0   Diesel   90.0       1.0          0  2000  three   \n",
      "1     13750  23.0  72937.0   Diesel   90.0       1.0          0  2000      3   \n",
      "2     13950  24.0  41711.0   Diesel   90.0       NaN          0  2000      3   \n",
      "3     14950  26.0  48000.0   Diesel   90.0       0.0          0  2000      3   \n",
      "4     13750  30.0  38500.0   Diesel   90.0       0.0          0  2000      3   \n",
      "...     ...   ...      ...      ...    ...       ...        ...   ...    ...   \n",
      "1431   7500   NaN  20544.0   Petrol   86.0       1.0          0  1300      3   \n",
      "1432  10845  72.0      NaN   Petrol   86.0       0.0          0  1300      3   \n",
      "1433   8500   NaN  17016.0   Petrol   86.0       0.0          0  1300      3   \n",
      "1434   7250  70.0      NaN      NaN   86.0       1.0          0  1300      3   \n",
      "1435   6950  76.0      1.0   Petrol  110.0       0.0          0  1600      5   \n",
      "\n",
      "      Weight  \n",
      "0       1165  \n",
      "1       1165  \n",
      "2       1165  \n",
      "3       1165  \n",
      "4       1170  \n",
      "...      ...  \n",
      "1431    1025  \n",
      "1432    1015  \n",
      "1433    1015  \n",
      "1434    1015  \n",
      "1435    1114  \n",
      "\n",
      "[1436 rows x 10 columns]\n"
     ]
    }
   ],
   "source": [
    "cars_data = pd.read_csv(\"Toyota.csv\" , index_col = 0 , na_values = [\"??\" , \"????\"])\n",
    "print(cars_data)"
   ]
  },
  {
   "cell_type": "code",
   "execution_count": 8,
   "id": "9b10d593",
   "metadata": {},
   "outputs": [],
   "source": [
    "cars_data.dropna(axis = 0 , inplace = True)"
   ]
  },
  {
   "cell_type": "code",
   "execution_count": 9,
   "id": "296898b4",
   "metadata": {},
   "outputs": [
    {
     "name": "stdout",
     "output_type": "stream",
     "text": [
      "      Price   Age       KM FuelType     HP  MetColor  Automatic    CC  Doors  \\\n",
      "0     13500  23.0  46986.0   Diesel   90.0       1.0          0  2000  three   \n",
      "1     13750  23.0  72937.0   Diesel   90.0       1.0          0  2000      3   \n",
      "3     14950  26.0  48000.0   Diesel   90.0       0.0          0  2000      3   \n",
      "4     13750  30.0  38500.0   Diesel   90.0       0.0          0  2000      3   \n",
      "5     12950  32.0  61000.0   Diesel   90.0       0.0          0  2000      3   \n",
      "...     ...   ...      ...      ...    ...       ...        ...   ...    ...   \n",
      "1423   7950  80.0  35821.0   Petrol   86.0       0.0          1  1300      3   \n",
      "1424   7750  73.0  34717.0   Petrol   86.0       0.0          0  1300      3   \n",
      "1429   8950  78.0  24000.0   Petrol   86.0       1.0          1  1300      5   \n",
      "1430   8450  80.0  23000.0   Petrol   86.0       0.0          0  1300      3   \n",
      "1435   6950  76.0      1.0   Petrol  110.0       0.0          0  1600      5   \n",
      "\n",
      "      Weight  \n",
      "0       1165  \n",
      "1       1165  \n",
      "3       1165  \n",
      "4       1170  \n",
      "5       1170  \n",
      "...      ...  \n",
      "1423    1015  \n",
      "1424    1015  \n",
      "1429    1065  \n",
      "1430    1015  \n",
      "1435    1114  \n",
      "\n",
      "[1096 rows x 10 columns]\n"
     ]
    }
   ],
   "source": [
    "print(cars_data)"
   ]
  },
  {
   "cell_type": "code",
   "execution_count": 11,
   "id": "e8a15119",
   "metadata": {},
   "outputs": [
    {
     "data": {
      "image/png": "[encoded data removed]",
      "text/plain": [
       "<Figure size 432x288 with 1 Axes>"
      ]
     },
     "metadata": {
      "needs_background": "light"
     },
     "output_type": "display_data"
    }
   ],
   "source": [
    "plt.scatter(cars_data['Age'],cars_data['Price'],c ='blue')\n",
    "plt.title('Scatter plot of Price vs Age of the cars')\n",
    "plt.xlabel('Age (month)')\n",
    "plt.ylabel('Price (euros)')\n",
    "plt.show()"
   ]
  },
  {
   "cell_type": "code",
   "execution_count": null,
   "id": "cf490781",
   "metadata": {},
   "outputs": [],
   "source": []
  }
 ],
 "metadata": {
  "kernelspec": {
   "display_name": "Python 3 (ipykernel)",
   "language": "python",
   "name": "python3"
  },
  "language_info": {
   "codemirror_mode": {
    "name": "ipython",
    "version": 3
   },
   "file_extension": ".py",
   "mimetype": "text/x-python",
   "name": "python",
   "nbconvert_exporter": "python",
   "pygments_lexer": "ipython3",
   "version": "3.9.12"
  }
 },
 "nbformat": 4,
 "nbformat_minor": 5
}
