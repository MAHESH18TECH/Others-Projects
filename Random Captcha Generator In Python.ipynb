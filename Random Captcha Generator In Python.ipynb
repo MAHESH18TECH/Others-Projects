{
 "cells": [
  {
   "cell_type": "code",
   "execution_count": 1,
   "id": "d5ea5adf",
   "metadata": {},
   "outputs": [
    {
     "ename": "ModuleNotFoundError",
     "evalue": "No module named 'captcha'",
     "output_type": "error",
     "traceback": [
      "\u001b[1;31m---------------------------------------------------------------------------\u001b[0m",
      "\u001b[1;31mModuleNotFoundError\u001b[0m                       Traceback (most recent call last)",
      "Input \u001b[1;32mIn [1]\u001b[0m, in \u001b[0;36m<cell line: 1>\u001b[1;34m()\u001b[0m\n\u001b[1;32m----> 1\u001b[0m \u001b[38;5;28;01mfrom\u001b[39;00m \u001b[38;5;21;01mcaptcha\u001b[39;00m\u001b[38;5;21;01m.\u001b[39;00m\u001b[38;5;21;01mimage\u001b[39;00m \u001b[38;5;28;01mimport\u001b[39;00m ImageCaptcha \n\u001b[0;32m      2\u001b[0m \u001b[38;5;28;01mimport\u001b[39;00m \u001b[38;5;21;01mstring\u001b[39;00m\n\u001b[0;32m      3\u001b[0m \u001b[38;5;28;01mimport\u001b[39;00m \u001b[38;5;21;01mrandom\u001b[39;00m\n",
      "\u001b[1;31mModuleNotFoundError\u001b[0m: No module named 'captcha'"
     ]
    }
   ],
   "source": [
    "from captcha.image import ImageCaptcha \n",
    "import string\n",
    "import random\n",
    "# initializing size of string\n",
    "N = 7\n",
    "# generating random strings\n",
    "res = ''.join(random.choices(string.ascii_uppercase +\n",
    "                             string.digits, k=N))\n",
    "# print result\n",
    "str2 = str(res)\n",
    "# Specify the image size\n",
    "image = ImageCaptcha(width = 300, height = 100)\n",
    "# Specify the Text for captcha\n",
    "captcha_text = str2\n",
    "# generate the image of the given text\n",
    "data = image.generate(captcha_text)  \n",
    "#clcoding.com   \n",
    "# write the image on the given file and save it\n",
    "image.write(captcha_text, 'D:\\CAPTCHA1.png')\n",
    "from PIL import Image\n",
    "Image.open('D:\\CAPTCHA1.png')\n"
   ]
  },
  {
   "cell_type": "code",
   "execution_count": 12,
   "id": "31b3b510",
   "metadata": {},
   "outputs": [
    {
     "name": "stdout",
     "output_type": "stream",
     "text": [
      "Requirement already satisfied: captcha in c:\\users\\mahes\\anaconda3\\lib\\site-packages (0.4)\n",
      "Requirement already satisfied: Pillow in c:\\users\\mahes\\anaconda3\\lib\\site-packages (from captcha) (8.4.0)\n",
      "Note: you may need to restart the kernel to use updated packages.\n"
     ]
    }
   ],
   "source": [
    "pip install captcha"
   ]
  },
  {
   "cell_type": "code",
   "execution_count": 17,
   "id": "3d6a36c7",
   "metadata": {},
   "outputs": [],
   "source": [
    "#Import the required Libraries\n",
    "from tkinter import *\n",
    "from tkinter import ttk\n",
    "\n",
    "#Create an instance of Tkinter frame\n",
    "win= Tk()\n",
    "\n",
    "#Set the geometry of Tkinter frame\n",
    "win.geometry(\"750x250\")\n",
    "\n",
    "def display_text():\n",
    "    global entry\n",
    "    string= entry.get()\n",
    "    label.configure(text=string)\n",
    "\n",
    "#Initialize a Label to display the User Input\n",
    "label=Label(win, text=\"\", font=(\"Courier 22 bold\"))\n",
    "label.pack()\n",
    "\n",
    "#Create an Entry widget to accept User Input\n",
    "entry= Entry(win, width= 40)\n",
    "entry.focus_set()\n",
    "entry.pack()\n",
    "\n",
    "#Create a Button to validate Entry Widget\n",
    "ttk.Button(win, text= \"Okay\",width= 20, command= display_text).pack(pady=20)\n",
    "\n",
    "win.mainloop()\n"
   ]
  },
  {
   "cell_type": "code",
   "execution_count": 18,
   "id": "f79b82fb",
   "metadata": {},
   "outputs": [
    {
     "data": {
      "text/plain": [
       "4"
      ]
     },
     "execution_count": 18,
     "metadata": {},
     "output_type": "execute_result"
    }
   ],
   "source": [
    "2+2"
   ]
  },
  {
   "cell_type": "code",
   "execution_count": null,
   "id": "e81dd47a",
   "metadata": {},
   "outputs": [],
   "source": []
  }
 ],
 "metadata": {
  "kernelspec": {
   "display_name": "Python 3 (ipykernel)",
   "language": "python",
   "name": "python3"
  },
  "language_info": {
   "codemirror_mode": {
    "name": "ipython",
    "version": 3
   },
   "file_extension": ".py",
   "mimetype": "text/x-python",
   "name": "python",
   "nbconvert_exporter": "python",
   "pygments_lexer": "ipython3",
   "version": "3.9.12"
  }
 },
 "nbformat": 4,
 "nbformat_minor": 5
}
